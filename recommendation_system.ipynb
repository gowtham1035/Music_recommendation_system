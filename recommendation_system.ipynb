{
 "cells": [
  {
   "cell_type": "markdown",
   "metadata": {},
   "source": [
    "# Music Recommendation System using KNN algorithm"
   ]
  },
  {
   "cell_type": "markdown",
   "metadata": {},
   "source": [
    "#### Importing necessary libraries"
   ]
  },
  {
   "cell_type": "code",
   "execution_count": null,
   "metadata": {},
   "outputs": [],
   "source": [
    "# Importing necessary libraries\n",
    "import pandas as pd\n",
    "import numpy as np\n",
    "import seaborn as sns\n",
    "import matplotlib.pyplot as plt\n",
    "from sklearn.preprocessing import StandardScaler\n",
    "from sklearn.neighbors import NearestNeighbors\n",
    "\n",
    "# Load data\n",
    "data = pd.read_csv(\"data.csv\")\n",
    "data_by_year = pd.read_csv(\"data_by_year.csv\")\n",
    "data_by_genres = pd.read_csv(\"data_by_genres.csv\")\n",
    "data_by_artist = pd.read_csv(\"data_by_artist.csv\")\n",
    "\n",
    "# Displaying the first few rows of each dataset\n",
    "print(\"Data.csv\")\n",
    "display(data.head())\n",
    "print(\"Data by Year\")\n",
    "display(data_by_year.head())\n",
    "print(\"Data by Genres\")\n",
    "display(data_by_genres.head())\n",
    "print(\"Data by Artist\")\n",
    "display(data_by_artist.head())\n"
   ]
  },
  {
   "cell_type": "markdown",
   "metadata": {},
   "source": []
  }
 ],
 "metadata": {
  "kernelspec": {
   "display_name": "Python 3",
   "language": "python",
   "name": "python3"
  },
  "language_info": {
   "name": "python",
   "version": "3.11.4"
  }
 },
 "nbformat": 4,
 "nbformat_minor": 2
}
